{
  "nbformat": 4,
  "nbformat_minor": 0,
  "metadata": {
    "colab": {
      "provenance": []
    },
    "kernelspec": {
      "name": "python3",
      "display_name": "Python 3"
    },
    "language_info": {
      "name": "python"
    }
  },
  "cells": [
    {
      "cell_type": "code",
      "source": [
        "def preprocess_titanic_data(df, is_train=True):\n",
        "    \"\"\"\n",
        "    Fungsi untuk membersihkan dan memproses data Titanic\n",
        "    \"\"\"\n",
        "    # Buat salinan dataframe\n",
        "    df_processed = df.copy()\n",
        "\n",
        "    # 1. Feature Engineering\n",
        "    df_processed['FamilySize'] = df_processed['SibSp'] + df_processed['Parch'] + 1\n",
        "    df_processed['IsAlone'] = (df_processed['FamilySize'] == 1).astype(int)\n",
        "\n",
        "    # 2. Handle missing values\n",
        "    df_processed['Age'].fillna(df_processed['Age'].median(), inplace=True)\n",
        "    df_processed['Fare'].fillna(df_processed['Fare'].median(), inplace=True)\n",
        "    df_processed['Embarked'].fillna(df_processed['Embarked'].mode()[0], inplace=True)\n",
        "\n",
        "    # 3. Encode categorical features\n",
        "    le = LabelEncoder()\n",
        "    df_processed['Sex'] = le.fit_transform(df_processed['Sex'])\n",
        "    df_processed['Embarked'] = le.fit_transform(df_processed['Embarked'].astype(str))\n",
        "\n",
        "    # 4. Extract Title from Name\n",
        "    df_processed['Title'] = df_processed['Name'].str.extract(' ([A-Za-z]+)\\.', expand=False)\n",
        "    df_processed['Title'] = df_processed['Title'].replace(['Lady', 'Countess','Capt', 'Col', 'Don',\n",
        "                                                         'Dr', 'Major', 'Rev', 'Sir', 'Jonkheer', 'Dona'], 'Rare')\n",
        "    df_processed['Title'] = df_processed['Title'].replace(['Mlle', 'Ms'], 'Miss')\n",
        "    df_processed['Title'] = df_processed['Title'].replace('Mme', 'Mrs')\n",
        "    df_processed['Title'] = le.fit_transform(df_processed['Title'])\n",
        "\n",
        "    # 5. Drop columns yang tidak diperlukan\n",
        "    columns_to_drop = ['Name', 'Ticket', 'Cabin']\n",
        "    df_processed.drop(columns_to_drop, axis=1, inplace=True, errors='ignore')\n",
        "\n",
        "    # 6. Pisahkan features dan target untuk data training\n",
        "    if is_train and 'Survived' in df_processed.columns:\n",
        "        y = df_processed['Survived']\n",
        "        X = df_processed.drop('Survived', axis=1)\n",
        "        return X, y\n",
        "\n",
        "    return df_processed\n",
        "\n",
        "# Proses data training\n",
        "X_train, y_train = preprocess_titanic_data(train_data, is_train=True)\n",
        "\n",
        "# Proses data test\n",
        "X_test = preprocess_titanic_data(test_data, is_train=False)\n",
        "\n",
        "# Gabungkan gender_submission dengan test data untuk evaluasi\n",
        "if not gender_data.empty and not test_data.empty:\n",
        "    test_results = pd.merge(\n",
        "        test_data[['PassengerId']],\n",
        "        gender_data,\n",
        "        on='PassengerId',\n",
        "        how='left'\n",
        "    )\n",
        "    y_test = test_results['Survived'] if 'Survived' in test_results.columns else None\n",
        "else:\n",
        "    y_test = None\n",
        "\n",
        "print(\"\\nData setelah preprocessing:\")\n",
        "print(\"X_train shape:\", X_train.shape)\n",
        "print(\"y_train shape:\", y_train.shape)\n",
        "print(\"X_test shape:\", X_test.shape)\n",
        "if y_test is not None:\n",
        "    print(\"y_test shape:\", y_test.shape)"
      ],
      "metadata": {
        "colab": {
          "base_uri": "https://localhost:8080/"
        },
        "id": "B9E1sn7XX_8U",
        "outputId": "707685e0-a951-4e21-d597-432f36811fd3"
      },
      "execution_count": null,
      "outputs": [
        {
          "output_type": "stream",
          "name": "stdout",
          "text": [
            "\n",
            "Data setelah preprocessing:\n",
            "X_train shape: (891, 11)\n",
            "y_train shape: (891,)\n",
            "X_test shape: (418, 11)\n",
            "y_test shape: (418,)\n"
          ]
        },
        {
          "output_type": "stream",
          "name": "stderr",
          "text": [
            "<ipython-input-6-ec9d1ef8f37b>:13: FutureWarning: A value is trying to be set on a copy of a DataFrame or Series through chained assignment using an inplace method.\n",
            "The behavior will change in pandas 3.0. This inplace method will never work because the intermediate object on which we are setting values always behaves as a copy.\n",
            "\n",
            "For example, when doing 'df[col].method(value, inplace=True)', try using 'df.method({col: value}, inplace=True)' or df[col] = df[col].method(value) instead, to perform the operation inplace on the original object.\n",
            "\n",
            "\n",
            "  df_processed['Age'].fillna(df_processed['Age'].median(), inplace=True)\n",
            "<ipython-input-6-ec9d1ef8f37b>:14: FutureWarning: A value is trying to be set on a copy of a DataFrame or Series through chained assignment using an inplace method.\n",
            "The behavior will change in pandas 3.0. This inplace method will never work because the intermediate object on which we are setting values always behaves as a copy.\n",
            "\n",
            "For example, when doing 'df[col].method(value, inplace=True)', try using 'df.method({col: value}, inplace=True)' or df[col] = df[col].method(value) instead, to perform the operation inplace on the original object.\n",
            "\n",
            "\n",
            "  df_processed['Fare'].fillna(df_processed['Fare'].median(), inplace=True)\n",
            "<ipython-input-6-ec9d1ef8f37b>:15: FutureWarning: A value is trying to be set on a copy of a DataFrame or Series through chained assignment using an inplace method.\n",
            "The behavior will change in pandas 3.0. This inplace method will never work because the intermediate object on which we are setting values always behaves as a copy.\n",
            "\n",
            "For example, when doing 'df[col].method(value, inplace=True)', try using 'df.method({col: value}, inplace=True)' or df[col] = df[col].method(value) instead, to perform the operation inplace on the original object.\n",
            "\n",
            "\n",
            "  df_processed['Embarked'].fillna(df_processed['Embarked'].mode()[0], inplace=True)\n",
            "<ipython-input-6-ec9d1ef8f37b>:13: FutureWarning: A value is trying to be set on a copy of a DataFrame or Series through chained assignment using an inplace method.\n",
            "The behavior will change in pandas 3.0. This inplace method will never work because the intermediate object on which we are setting values always behaves as a copy.\n",
            "\n",
            "For example, when doing 'df[col].method(value, inplace=True)', try using 'df.method({col: value}, inplace=True)' or df[col] = df[col].method(value) instead, to perform the operation inplace on the original object.\n",
            "\n",
            "\n",
            "  df_processed['Age'].fillna(df_processed['Age'].median(), inplace=True)\n",
            "<ipython-input-6-ec9d1ef8f37b>:14: FutureWarning: A value is trying to be set on a copy of a DataFrame or Series through chained assignment using an inplace method.\n",
            "The behavior will change in pandas 3.0. This inplace method will never work because the intermediate object on which we are setting values always behaves as a copy.\n",
            "\n",
            "For example, when doing 'df[col].method(value, inplace=True)', try using 'df.method({col: value}, inplace=True)' or df[col] = df[col].method(value) instead, to perform the operation inplace on the original object.\n",
            "\n",
            "\n",
            "  df_processed['Fare'].fillna(df_processed['Fare'].median(), inplace=True)\n",
            "<ipython-input-6-ec9d1ef8f37b>:15: FutureWarning: A value is trying to be set on a copy of a DataFrame or Series through chained assignment using an inplace method.\n",
            "The behavior will change in pandas 3.0. This inplace method will never work because the intermediate object on which we are setting values always behaves as a copy.\n",
            "\n",
            "For example, when doing 'df[col].method(value, inplace=True)', try using 'df.method({col: value}, inplace=True)' or df[col] = df[col].method(value) instead, to perform the operation inplace on the original object.\n",
            "\n",
            "\n",
            "  df_processed['Embarked'].fillna(df_processed['Embarked'].mode()[0], inplace=True)\n"
          ]
        }
      ]
    },
    {
      "cell_type": "code",
      "source": [],
      "metadata": {
        "id": "-nQN71FwfHv-"
      },
      "execution_count": null,
      "outputs": []
    }
  ]
}